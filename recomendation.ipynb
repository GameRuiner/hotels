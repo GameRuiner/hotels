{
 "cells": [
  {
   "cell_type": "code",
   "execution_count": 73,
   "metadata": {},
   "outputs": [
    {
     "name": "stdout",
     "output_type": "stream",
     "text": [
      "module https://tfhub.dev/google/universal-sentence-encoder/4 loaded\n"
     ]
    }
   ],
   "source": [
    "import tensorflow_hub as hub\n",
    "import numpy as np\n",
    "import os\n",
    "\n",
    "module_url = \"https://tfhub.dev/google/universal-sentence-encoder/4\"\n",
    "model = hub.load(module_url)\n",
    "print (\"module %s loaded\" % module_url)\n",
    "def embed(input):\n",
    "  return model(input)"
   ]
  },
  {
   "cell_type": "code",
   "execution_count": 79,
   "metadata": {},
   "outputs": [],
   "source": [
    "import json\n",
    "from sklearn.metrics.pairwise import cosine_similarity"
   ]
  },
  {
   "cell_type": "code",
   "execution_count": 80,
   "metadata": {},
   "outputs": [],
   "source": [
    "reviews_folder = \"./reviews/\"\n",
    "hotels_folder = \"./hotels/\"\n",
    "\n",
    "reviews = []\n",
    "for filename in os.listdir(reviews_folder):\n",
    "  if filename == '.gitkeep': continue\n",
    "  reviews_json = json.load(open(reviews_folder+filename, 'r', encoding=\"utf8\"))\n",
    "  if ('data' not in reviews_json or len(reviews_json['data']) == 0):\n",
    "    continue\n",
    "  hotel_json = json.load(open(hotels_folder+filename, 'r', encoding=\"utf8\"))\n",
    "  country = hotel_json['address_obj']['country']\n",
    "  review = reviews_json['data'][0]['text']\n",
    "  text = f'{review} {country}'\n",
    "  reviews.append(text)"
   ]
  },
  {
   "cell_type": "code",
   "execution_count": 81,
   "metadata": {},
   "outputs": [
    {
     "data": {
      "text/plain": [
       "['This hotel is great if you want a good nights kip! Comfortable bed, fridge, kettle, good sized tv and the bathroom is very modern. There is also a safe in the LONG wardrobes which was great! The decor in rooms was just a bit dull (dark wood/carpets/curtains) however im more for comfort, new, fresh and clean, and it was all of these things! Staff were extremely helpful and rooms were cleaned on request.  Turkiye',\n",
       " 'We loved our stay at Eden Roc - we were in one of the bungalows. It was clean and in a nice quiet location. \\n\\nWe stayed for a week which was probably long enough as we were able to do different activities each day. \\n\\nRestaurants were great, but make sure you book as soon as you arrive otherwise it can be hard to get in as they are (other than the buffet restaurant) quite small. \\n\\nThe buffet restaurant had a great selection for breakfast and dinner and it was good quality too. \\n\\nBar staff were great, really friendly and we had a great selection of drinks including premium spirits. \\n\\nHaving a voucher for the restaurant up in the town was ideal and a highlight for us. \\n\\nWe hired a car to go to Lindos and took a taxi to Rhodes Old Town - both worth a visit. \\n\\nA couple of slight negatives (but certainly didn’t spoil it for us) - ants on one night in our bungalow and the pools were salt water and freezing. That didn’t spoil it for our kids, I’m just getting soft. The ants were dealt with too. Both of those were minor things and wouldn’t stop us returning in future. Dodecanese',\n",
       " 'Hotel was great but the best thing about the hotel was the staff!! Honestly never stayed at a hotel where the staff were so attentive and genuinely nice. Everyday I was at reception asking for recommendations for places to eat and things to do. They bent of backwards to help us, made some amazing recommendations and made all the phone calls always with a smile!!! I will definitely stay here again because of the lovely staff, highly recommend! Spain',\n",
       " 'Spent an amazing three nights here for my birthday and wish it had been longer 😊\\nBeautiful well presented hotel. Lovely spacious rooms. The staff are amazing and very friendly especially Simo, who could not do enough for us. Even hauling our suitcases to Main Street to get us a taxi when the one we booked did not turn up.\\nHotel is in a lovely quiet area but very central to everything. \\nThe rooftop pool and bar are a lovely addition .\\nDefinitely deserves the great reviews and will be back 😊 Spain',\n",
       " 'It’s been 10 years since we visited this hotel and we weren’t disappointed. The hotel has had some excellent improvements made including the Waterpark and restaurants including the Bussola beach bar which was a new addition since our last visit.\\nThe grounds are still beautifully maintained and the staff are still extremely friendly and professional.\\nA special shout out to Damaciano Fernandes who was exceptionally friendly helping with sun beds everyday - what a fantastic guy he is. \\nAlso Amiya who looked after our rooms everyday - he did a great job and always had a smile on his face. Thank you Amiya.\\nWe will definitely be back. United Arab Emirates']"
      ]
     },
     "execution_count": 81,
     "metadata": {},
     "output_type": "execute_result"
    }
   ],
   "source": [
    "reviews[:5]"
   ]
  },
  {
   "cell_type": "code",
   "execution_count": 82,
   "metadata": {},
   "outputs": [],
   "source": [
    "def find_recommendations(reviews, user_prompts):\n",
    "  reviews_embeddings_ = embed(reviews)\n",
    "  reviews_embeddings_2D = np.reshape(reviews_embeddings_, (len(reviews_embeddings_), -1))\n",
    "  prompts_embedded = embed(user_prompts)\n",
    "  for prompt in prompts_embedded:\n",
    "    target_tensor_2D = np.reshape(prompt, (1, -1))\n",
    "    similarities = cosine_similarity(target_tensor_2D, reviews_embeddings_2D)\n",
    "    most_similar_index = np.argmax(similarities[0])\n",
    "    print('similarity', similarities[0][most_similar_index])\n",
    "    print(reviews[most_similar_index])\n"
   ]
  },
  {
   "cell_type": "code",
   "execution_count": 83,
   "metadata": {},
   "outputs": [
    {
     "name": "stdout",
     "output_type": "stream",
     "text": [
      "similarity 0.4188065\n",
      "A fantastic location, great staff, a lovely sleep and scrumptious food, but sadly the Turkish economy is taking its toll on the hotel. No international charging ports, no English language programs on TV, and very few English speakers. This was a lovely stay I just with Erdogan would help his country try and people rather than himself! Turkiye\n",
      "similarity 0.15361835\n",
      "Best value of anyplace I've ever stayed, and I've travelled in 70 countries!  Nice room with balcony overlooking the forest, huge and delicious breakfast, use of the beautiful spa and grounds, and nearby hiking trails.  Was so great I decided to spend a whole month here!   Turkiye\n",
      "similarity 0.43521333\n",
      "Very very good. Clean. Friendly staff. Good breakfast. \n",
      "I wish restourant meniu is better so I would eat here offten. I wish they have ice tapas and more main course dishes for evening. \n",
      "Nice place for meatings and top swimming pool. Pool is not very big and cold at march 31 st. Spain\n",
      "similarity 0.31867307\n",
      "Thank you Rehana resort for our lovely stay! We had a relaxing and enjoyable time in the resort.\n",
      " We had great fun in the pool/ slides and at the beach, snorkeling between colorful fish and corals.\n",
      "Starting with the room which has been cleaned every day, towels changed daylly, comfortable mattresses, bottles of water stuffed into dailly, food healthy and very tasty, had good fruits.  Drinks ok,  but for some one with high expectation probably not the place for them.\n",
      "Staff was so welcoming, friendly and helpful.\n",
      "Gardens spectacular, with perfectly trimmed trees, grass,  pool area and beach area was cleaned everyday.\n",
      " A big Thank you to entertainment team that has kept kids happy with mini disco and adults with dancing and different activities.\n",
      "Will definitely recommend and return to Rehana! Egypt\n",
      "similarity 0.22938746\n",
      "Best value of anyplace I've ever stayed, and I've travelled in 70 countries!  Nice room with balcony overlooking the forest, huge and delicious breakfast, use of the beautiful spa and grounds, and nearby hiking trails.  Was so great I decided to spend a whole month here!   Turkiye\n"
     ]
    }
   ],
   "source": [
    "user_prompts = [\n",
    "  'I want to go to Turkey, near sea', \n",
    "  'Somewhere to climb mountains', \n",
    "  'Where is the best paella', \n",
    "  'I want to try surfing and eat tropical fruits', \n",
    "  'Going to exotic country'\n",
    "  ]\n",
    "find_recommendations(reviews, user_prompts)"
   ]
  }
 ],
 "metadata": {
  "kernelspec": {
   "display_name": "Python 3",
   "language": "python",
   "name": "python3"
  },
  "language_info": {
   "codemirror_mode": {
    "name": "ipython",
    "version": 3
   },
   "file_extension": ".py",
   "mimetype": "text/x-python",
   "name": "python",
   "nbconvert_exporter": "python",
   "pygments_lexer": "ipython3",
   "version": "3.11.2"
  }
 },
 "nbformat": 4,
 "nbformat_minor": 2
}
