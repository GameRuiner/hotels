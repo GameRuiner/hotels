{
 "cells": [
  {
   "cell_type": "code",
   "execution_count": null,
   "metadata": {},
   "outputs": [],
   "source": [
    "import os\n",
    "from dotenv import load_dotenv\n",
    "import pymongo\n",
    "load_dotenv() \n",
    "\n",
    "client = pymongo.MongoClient(os.environ[\"MONGO_HOST\"])\n",
    "db = client[\"hotels\"]\n",
    "hotels_col = db[\"hotels\"]"
   ]
  },
  {
   "cell_type": "code",
   "execution_count": 4,
   "metadata": {},
   "outputs": [
    {
     "name": "stdout",
     "output_type": "stream",
     "text": [
      "Non-smoking rooms: 2146\n",
      "Air conditioning: 2110\n",
      "Internet: 2022\n",
      "English: 1993\n",
      "Free Internet: 1980\n",
      "Free Wifi: 1978\n",
      "Wifi: 1942\n",
      "Baggage Storage: 1817\n",
      "Safe: 1813\n",
      "24-Hour Front Desk: 1732\n",
      "Flatscreen TV: 1717\n",
      "Laundry Service: 1659\n",
      "Restaurant: 1593\n",
      "Breakfast Buffet: 1548\n",
      "Bar/Lounge: 1545\n"
     ]
    }
   ],
   "source": [
    "pipeline = [\n",
    "    {\"$unwind\": \"$amenities\"},\n",
    "    {\"$group\": {\"_id\": \"$amenities\", \"count\": {\"$sum\": 1}}}, \n",
    "    {\"$sort\": {\"count\": -1}}, \n",
    "    {\"$limit\": 15}\n",
    "]\n",
    "\n",
    "top_amenities = list(hotels_col.aggregate(pipeline))\n",
    "\n",
    "for amenity in top_amenities:\n",
    "    print(f\"{amenity['_id']}: {amenity['count']}\")"
   ]
  },
  {
   "cell_type": "code",
   "execution_count": 6,
   "metadata": {},
   "outputs": [],
   "source": [
    "filter_amenities = [\"Non-smoking rooms\", \"Air conditioning\", \"Free Wifi\", \"Baggage Storage\", \"Safe\", \"24-Hour Front Desk\", \"Flatscreen TV\", \"Laundry Service\", \"Restaurant\", \"Breakfast Buffet\"]"
   ]
  }
 ],
 "metadata": {
  "kernelspec": {
   "display_name": "Python 3",
   "language": "python",
   "name": "python3"
  },
  "language_info": {
   "codemirror_mode": {
    "name": "ipython",
    "version": 3
   },
   "file_extension": ".py",
   "mimetype": "text/x-python",
   "name": "python",
   "nbconvert_exporter": "python",
   "pygments_lexer": "ipython3",
   "version": "3.11.2"
  }
 },
 "nbformat": 4,
 "nbformat_minor": 2
}
