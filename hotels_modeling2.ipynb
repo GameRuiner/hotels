{
 "cells": [
  {
   "cell_type": "markdown",
   "metadata": {},
   "source": [
    "# Hotele na wakacje\n",
    "\n",
    "## Wstępna ocena przydatności danych"
   ]
  },
  {
   "cell_type": "code",
   "execution_count": 1,
   "metadata": {},
   "outputs": [],
   "source": [
    "import pandas as pd\n",
    "import numpy as np\n",
    "from matplotlib import pyplot as plt\n",
    "import seaborn as sns\n",
    "from sklearn.model_selection import train_test_split\n",
    "from sklearn.model_selection import GridSearchCV\n",
    "from sklearn.model_selection import cross_val_score\n",
    "from sklearn.neighbors import KNeighborsClassifier\n",
    "from sklearn.metrics import classification_report\n",
    "from sklearn.metrics import confusion_matrix\n",
    "from sklearn.metrics import ConfusionMatrixDisplay\n",
    "from sklearn.naive_bayes import CategoricalNB\n",
    "from sklearn.discriminant_analysis import \\\n",
    "     (LinearDiscriminantAnalysis as LDA,\n",
    "      QuadraticDiscriminantAnalysis as QDA)\n",
    "from sklearn.ensemble import RandomForestClassifier\n",
    "\n",
    "sns.set()"
   ]
  },
  {
   "cell_type": "code",
   "execution_count": 2,
   "metadata": {},
   "outputs": [],
   "source": [
    "df = pd.read_csv('hotels2.csv', index_col='id')"
   ]
  },
  {
   "cell_type": "code",
   "execution_count": 3,
   "metadata": {},
   "outputs": [
    {
     "data": {
      "text/html": [
       "<div>\n",
       "<style scoped>\n",
       "    .dataframe tbody tr th:only-of-type {\n",
       "        vertical-align: middle;\n",
       "    }\n",
       "\n",
       "    .dataframe tbody tr th {\n",
       "        vertical-align: top;\n",
       "    }\n",
       "\n",
       "    .dataframe thead th {\n",
       "        text-align: right;\n",
       "    }\n",
       "</style>\n",
       "<table border=\"1\" class=\"dataframe\">\n",
       "  <thead>\n",
       "    <tr style=\"text-align: right;\">\n",
       "      <th></th>\n",
       "      <th>latitude</th>\n",
       "      <th>longitude</th>\n",
       "      <th>ranking</th>\n",
       "      <th>ranking_out_of</th>\n",
       "      <th>rating</th>\n",
       "      <th>num_reviews</th>\n",
       "      <th>photo_count</th>\n",
       "    </tr>\n",
       "  </thead>\n",
       "  <tbody>\n",
       "    <tr>\n",
       "      <th>count</th>\n",
       "      <td>1165.000000</td>\n",
       "      <td>1165.000000</td>\n",
       "      <td>1165.00000</td>\n",
       "      <td>1165.000000</td>\n",
       "      <td>1165.000000</td>\n",
       "      <td>1165.000000</td>\n",
       "      <td>1165.000000</td>\n",
       "    </tr>\n",
       "    <tr>\n",
       "      <th>mean</th>\n",
       "      <td>31.607489</td>\n",
       "      <td>35.995338</td>\n",
       "      <td>147.04206</td>\n",
       "      <td>597.191416</td>\n",
       "      <td>4.337339</td>\n",
       "      <td>1929.244635</td>\n",
       "      <td>1560.814592</td>\n",
       "    </tr>\n",
       "    <tr>\n",
       "      <th>std</th>\n",
       "      <td>6.851927</td>\n",
       "      <td>19.677281</td>\n",
       "      <td>155.82979</td>\n",
       "      <td>372.791391</td>\n",
       "      <td>0.508456</td>\n",
       "      <td>2405.844558</td>\n",
       "      <td>2328.728259</td>\n",
       "    </tr>\n",
       "    <tr>\n",
       "      <th>min</th>\n",
       "      <td>24.816820</td>\n",
       "      <td>2.070631</td>\n",
       "      <td>1.00000</td>\n",
       "      <td>1.000000</td>\n",
       "      <td>2.500000</td>\n",
       "      <td>1.000000</td>\n",
       "      <td>0.000000</td>\n",
       "    </tr>\n",
       "    <tr>\n",
       "      <th>25%</th>\n",
       "      <td>25.220015</td>\n",
       "      <td>27.138655</td>\n",
       "      <td>24.00000</td>\n",
       "      <td>218.000000</td>\n",
       "      <td>4.000000</td>\n",
       "      <td>219.000000</td>\n",
       "      <td>168.000000</td>\n",
       "    </tr>\n",
       "    <tr>\n",
       "      <th>50%</th>\n",
       "      <td>27.907465</td>\n",
       "      <td>34.327927</td>\n",
       "      <td>81.00000</td>\n",
       "      <td>553.000000</td>\n",
       "      <td>4.500000</td>\n",
       "      <td>1073.000000</td>\n",
       "      <td>596.000000</td>\n",
       "    </tr>\n",
       "    <tr>\n",
       "      <th>75%</th>\n",
       "      <td>38.424140</td>\n",
       "      <td>55.266380</td>\n",
       "      <td>242.00000</td>\n",
       "      <td>982.000000</td>\n",
       "      <td>4.500000</td>\n",
       "      <td>2607.000000</td>\n",
       "      <td>1857.000000</td>\n",
       "    </tr>\n",
       "    <tr>\n",
       "      <th>max</th>\n",
       "      <td>41.435448</td>\n",
       "      <td>55.662610</td>\n",
       "      <td>697.00000</td>\n",
       "      <td>1202.000000</td>\n",
       "      <td>5.000000</td>\n",
       "      <td>15221.000000</td>\n",
       "      <td>13798.000000</td>\n",
       "    </tr>\n",
       "  </tbody>\n",
       "</table>\n",
       "</div>"
      ],
      "text/plain": [
       "          latitude    longitude     ranking  ranking_out_of       rating  \\\n",
       "count  1165.000000  1165.000000  1165.00000     1165.000000  1165.000000   \n",
       "mean     31.607489    35.995338   147.04206      597.191416     4.337339   \n",
       "std       6.851927    19.677281   155.82979      372.791391     0.508456   \n",
       "min      24.816820     2.070631     1.00000        1.000000     2.500000   \n",
       "25%      25.220015    27.138655    24.00000      218.000000     4.000000   \n",
       "50%      27.907465    34.327927    81.00000      553.000000     4.500000   \n",
       "75%      38.424140    55.266380   242.00000      982.000000     4.500000   \n",
       "max      41.435448    55.662610   697.00000     1202.000000     5.000000   \n",
       "\n",
       "        num_reviews   photo_count  \n",
       "count   1165.000000   1165.000000  \n",
       "mean    1929.244635   1560.814592  \n",
       "std     2405.844558   2328.728259  \n",
       "min        1.000000      0.000000  \n",
       "25%      219.000000    168.000000  \n",
       "50%     1073.000000    596.000000  \n",
       "75%     2607.000000   1857.000000  \n",
       "max    15221.000000  13798.000000  "
      ]
     },
     "execution_count": 3,
     "metadata": {},
     "output_type": "execute_result"
    }
   ],
   "source": [
    "df.describe()"
   ]
  },
  {
   "cell_type": "code",
   "execution_count": 4,
   "metadata": {},
   "outputs": [
    {
     "name": "stdout",
     "output_type": "stream",
     "text": [
      "<class 'pandas.core.frame.DataFrame'>\n",
      "Int64Index: 1165 entries, 1006161 to 9865057\n",
      "Data columns (total 7 columns):\n",
      " #   Column       Non-Null Count  Dtype \n",
      "---  ------       --------------  ----- \n",
      " 0   name         1165 non-null   object\n",
      " 1   region       1165 non-null   object\n",
      " 2   country      1165 non-null   object\n",
      " 3   amenities    1125 non-null   object\n",
      " 4   brand        487 non-null    object\n",
      " 5   awards       598 non-null    object\n",
      " 6   price_level  1165 non-null   object\n",
      "dtypes: object(7)\n",
      "memory usage: 72.8+ KB\n"
     ]
    }
   ],
   "source": [
    "df.select_dtypes(exclude=[\"number\"]).info()"
   ]
  },
  {
   "cell_type": "markdown",
   "metadata": {},
   "source": [
    "## Przygotowanie danych"
   ]
  },
  {
   "cell_type": "code",
   "execution_count": 7,
   "metadata": {},
   "outputs": [],
   "source": [
    "df['price_level_num'] = df.price_level.apply(len)"
   ]
  },
  {
   "cell_type": "code",
   "execution_count": 31,
   "metadata": {},
   "outputs": [
    {
     "data": {
      "text/plain": [
       "Index(['latitude', 'longitude', 'ranking_out_of', 'rating', 'num_reviews',\n",
       "       'photo_count', 'ranking_relation', 'amenities_ DVDs',\n",
       "       'amenities_ Music for Children', 'amenities_24-Hour Check-in',\n",
       "       ...\n",
       "       'brand_Vida Hotels and Resorts', 'brand_Vincci', 'brand_Voco Hotels',\n",
       "       'brand_W Hotels', 'brand_Waldorf Astoria Hotels & Resorts',\n",
       "       'brand_Westin', 'brand_Wyndham', 'brand_Wyndham Grand', 'brand_ibis',\n",
       "       'brand_ibis Styles'],\n",
       "      dtype='object', length=518)"
      ]
     },
     "execution_count": 31,
     "metadata": {},
     "output_type": "execute_result"
    }
   ],
   "source": [
    "df['ranking_relation'] = round(df.ranking / df.ranking_out_of, 2)\n",
    "# dropped Y's low correlation ranking and name\n",
    "X = df.drop(['price_level', 'price_level_num', 'ranking', 'name', 'amenities', 'awards'], axis= 'columns')\n",
    "X = X.join(df.amenities.str.get_dummies(',').add_prefix('amenities_'))\n",
    "X = X.join(df.awards.str.get_dummies(',').add_prefix('awards_'))\n",
    "X = pd.get_dummies(X)\n",
    "X.columns"
   ]
  },
  {
   "cell_type": "code",
   "execution_count": 34,
   "metadata": {},
   "outputs": [
    {
     "data": {
      "text/plain": [
       "((932, 518), (745, 518), (187, 518), (233, 518))"
      ]
     },
     "execution_count": 34,
     "metadata": {},
     "output_type": "execute_result"
    }
   ],
   "source": [
    "X_scaled = minmax_scale(X)\n",
    "X_train, X_test, y_train, y_test = train_test_split(X_scaled, df.price_level_num, test_size=0.2, random_state=1)\n",
    "X_train_split, X_validation, y_train_split, y_validation = train_test_split(X_train, y_train, test_size=0.2, random_state=1)\n",
    "X_train.shape, X_train_split.shape, X_validation.shape, X_test.shape"
   ]
  },
  {
   "cell_type": "markdown",
   "metadata": {},
   "source": [
    "## Modelowanie"
   ]
  },
  {
   "cell_type": "markdown",
   "metadata": {},
   "source": [
    "Algorytm naiwny zawsze wybierając 2 będzie miał 47% dokładności"
   ]
  },
  {
   "cell_type": "code",
   "execution_count": 36,
   "metadata": {},
   "outputs": [
    {
     "data": {
      "text/plain": [
       "({'n_neighbors': 6}, 0.6555364905056051)"
      ]
     },
     "execution_count": 36,
     "metadata": {},
     "output_type": "execute_result"
    }
   ],
   "source": [
    "knn = KNeighborsClassifier()\n",
    "param_grid = {\"n_neighbors\": np.arange(1, 20)}\n",
    "knn_gscv = GridSearchCV(knn, param_grid, cv=10)\n",
    "knn_gscv.fit(X_train, y_train)\n",
    "knn_gscv.best_params_, knn_gscv.best_score_"
   ]
  },
  {
   "cell_type": "code",
   "execution_count": 37,
   "metadata": {},
   "outputs": [
    {
     "data": {
      "text/plain": [
       "array([[37, 16,  0,  0],\n",
       "       [14, 73,  4,  0],\n",
       "       [ 1,  8,  5,  2],\n",
       "       [ 3, 10,  5,  9]], dtype=int64)"
      ]
     },
     "execution_count": 37,
     "metadata": {},
     "output_type": "execute_result"
    }
   ],
   "source": [
    "knn = KNeighborsClassifier(n_neighbors=6)\n",
    "knn.fit(X_train_split, y_train_split)\n",
    "y_pred = knn.predict(X_validation)\n",
    "confusion_matrix(y_validation, y_pred)"
   ]
  },
  {
   "cell_type": "code",
   "execution_count": 38,
   "metadata": {},
   "outputs": [
    {
     "name": "stdout",
     "output_type": "stream",
     "text": [
      "              precision    recall  f1-score   support\n",
      "\n",
      "           1       0.67      0.70      0.69        53\n",
      "           2       0.68      0.80      0.74        91\n",
      "           3       0.36      0.31      0.33        16\n",
      "           4       0.82      0.33      0.47        27\n",
      "\n",
      "    accuracy                           0.66       187\n",
      "   macro avg       0.63      0.54      0.56       187\n",
      "weighted avg       0.67      0.66      0.65       187\n",
      "\n"
     ]
    }
   ],
   "source": [
    "print(classification_report(y_validation, y_pred))"
   ]
  },
  {
   "cell_type": "code",
   "execution_count": 39,
   "metadata": {},
   "outputs": [
    {
     "data": {
      "image/png": "[encoded data removed]",
      "text/plain": [
       "<Figure size 1800x600 with 2 Axes>"
      ]
     },
     "metadata": {},
     "output_type": "display_data"
    }
   ],
   "source": [
    "c_matrix = confusion_matrix(y_validation, y_pred)\n",
    "cm_display = ConfusionMatrixDisplay(confusion_matrix = c_matrix, display_labels=sorted(list(set(y_test))))\n",
    "fig, ax = plt.subplots(figsize=(18, 6))\n",
    "ax.grid(False)\n",
    "cm_display.plot(ax=ax)\n",
    "plt.show()"
   ]
  },
  {
   "cell_type": "code",
   "execution_count": 43,
   "metadata": {},
   "outputs": [
    {
     "name": "stdout",
     "output_type": "stream",
     "text": [
      "[0.60638298 0.46808511 0.6344086  0.5483871  0.53763441 0.51612903\n",
      " 0.5483871  0.52688172 0.50537634 0.55913978]\n"
     ]
    },
    {
     "data": {
      "text/plain": [
       "0.5450812171127888"
      ]
     },
     "execution_count": 43,
     "metadata": {},
     "output_type": "execute_result"
    }
   ],
   "source": [
    "clf = CategoricalNB(min_categories=X.nunique())\n",
    "cross_scores = cross_val_score(clf, X_train, y_train, cv=10)\n",
    "print(cross_scores)\n",
    "cross_scores.mean()"
   ]
  },
  {
   "cell_type": "code",
   "execution_count": 44,
   "metadata": {},
   "outputs": [
    {
     "name": "stdout",
     "output_type": "stream",
     "text": [
      "              precision    recall  f1-score   support\n",
      "\n",
      "           1       0.61      0.75      0.67        53\n",
      "           2       0.70      0.56      0.62        91\n",
      "           3       0.20      0.25      0.22        16\n",
      "           4       0.43      0.44      0.44        27\n",
      "\n",
      "    accuracy                           0.57       187\n",
      "   macro avg       0.48      0.50      0.49       187\n",
      "weighted avg       0.59      0.57      0.58       187\n",
      "\n"
     ]
    },
    {
     "data": {
      "image/png": "[encoded data removed]",
      "text/plain": [
       "<Figure size 1800x600 with 2 Axes>"
      ]
     },
     "metadata": {},
     "output_type": "display_data"
    }
   ],
   "source": [
    "clf.fit(X_train_split, y_train_split)\n",
    "y_pred = clf.predict(X_validation)\n",
    "print(classification_report(y_validation, y_pred))\n",
    "c_matrix = confusion_matrix(y_validation, y_pred)\n",
    "cm_display = ConfusionMatrixDisplay(confusion_matrix = c_matrix, display_labels=sorted(list(set(y_test))))\n",
    "fig, ax = plt.subplots(figsize=(18, 6))\n",
    "ax.grid(False)\n",
    "cm_display.plot(ax=ax)\n",
    "plt.show()"
   ]
  },
  {
   "cell_type": "code",
   "execution_count": 45,
   "metadata": {},
   "outputs": [
    {
     "name": "stdout",
     "output_type": "stream",
     "text": [
      "[0.63829787 0.55319149 0.61290323 0.52688172 0.56989247 0.55913978\n",
      " 0.50537634 0.58064516 0.60215054 0.61290323]\n"
     ]
    },
    {
     "data": {
      "text/plain": [
       "0.5761381834820407"
      ]
     },
     "execution_count": 45,
     "metadata": {},
     "output_type": "execute_result"
    }
   ],
   "source": [
    "lda = LDA(store_covariance=True)\n",
    "cross_scores = cross_val_score(lda, X_train, y_train, cv=10)\n",
    "print(cross_scores)\n",
    "cross_scores.mean()"
   ]
  },
  {
   "cell_type": "code",
   "execution_count": 46,
   "metadata": {},
   "outputs": [
    {
     "name": "stdout",
     "output_type": "stream",
     "text": [
      "              precision    recall  f1-score   support\n",
      "\n",
      "           1       0.56      0.66      0.61        53\n",
      "           2       0.68      0.55      0.61        91\n",
      "           3       0.17      0.38      0.23        16\n",
      "           4       0.73      0.41      0.52        27\n",
      "\n",
      "    accuracy                           0.55       187\n",
      "   macro avg       0.54      0.50      0.49       187\n",
      "weighted avg       0.61      0.55      0.56       187\n",
      "\n"
     ]
    }
   ],
   "source": [
    "lda.fit(X_train_split, y_train_split)\n",
    "lda_pred = lda.predict(X_validation)\n",
    "print(classification_report(y_validation, lda_pred))"
   ]
  },
  {
   "cell_type": "code",
   "execution_count": 47,
   "metadata": {},
   "outputs": [
    {
     "data": {
      "image/png": "[encoded data removed]",
      "text/plain": [
       "<Figure size 1800x600 with 2 Axes>"
      ]
     },
     "metadata": {},
     "output_type": "display_data"
    }
   ],
   "source": [
    "c_matrix = confusion_matrix(y_validation, lda_pred)\n",
    "cm_display = ConfusionMatrixDisplay(confusion_matrix = c_matrix, display_labels=sorted(list(set(y_test))))\n",
    "fig, ax = plt.subplots(figsize=(18, 6))\n",
    "ax.grid(False)\n",
    "cm_display.plot(ax=ax)\n",
    "plt.show()"
   ]
  },
  {
   "cell_type": "code",
   "execution_count": 59,
   "metadata": {},
   "outputs": [
    {
     "data": {
      "text/html": [
       "<style>#sk-container-id-5 {color: black;}#sk-container-id-5 pre{padding: 0;}#sk-container-id-5 div.sk-toggleable {background-color: white;}#sk-container-id-5 label.sk-toggleable__label {cursor: pointer;display: block;width: 100%;margin-bottom: 0;padding: 0.3em;box-sizing: border-box;text-align: center;}#sk-container-id-5 label.sk-toggleable__label-arrow:before {content: \"▸\";float: left;margin-right: 0.25em;color: #696969;}#sk-container-id-5 label.sk-toggleable__label-arrow:hover:before {color: black;}#sk-container-id-5 div.sk-estimator:hover label.sk-toggleable__label-arrow:before {color: black;}#sk-container-id-5 div.sk-toggleable__content {max-height: 0;max-width: 0;overflow: hidden;text-align: left;background-color: #f0f8ff;}#sk-container-id-5 div.sk-toggleable__content pre {margin: 0.2em;color: black;border-radius: 0.25em;background-color: #f0f8ff;}#sk-container-id-5 input.sk-toggleable__control:checked~div.sk-toggleable__content {max-height: 200px;max-width: 100%;overflow: auto;}#sk-container-id-5 input.sk-toggleable__control:checked~label.sk-toggleable__label-arrow:before {content: \"▾\";}#sk-container-id-5 div.sk-estimator input.sk-toggleable__control:checked~label.sk-toggleable__label {background-color: #d4ebff;}#sk-container-id-5 div.sk-label input.sk-toggleable__control:checked~label.sk-toggleable__label {background-color: #d4ebff;}#sk-container-id-5 input.sk-hidden--visually {border: 0;clip: rect(1px 1px 1px 1px);clip: rect(1px, 1px, 1px, 1px);height: 1px;margin: -1px;overflow: hidden;padding: 0;position: absolute;width: 1px;}#sk-container-id-5 div.sk-estimator {font-family: monospace;background-color: #f0f8ff;border: 1px dotted black;border-radius: 0.25em;box-sizing: border-box;margin-bottom: 0.5em;}#sk-container-id-5 div.sk-estimator:hover {background-color: #d4ebff;}#sk-container-id-5 div.sk-parallel-item::after {content: \"\";width: 100%;border-bottom: 1px solid gray;flex-grow: 1;}#sk-container-id-5 div.sk-label:hover label.sk-toggleable__label {background-color: #d4ebff;}#sk-container-id-5 div.sk-serial::before {content: \"\";position: absolute;border-left: 1px solid gray;box-sizing: border-box;top: 0;bottom: 0;left: 50%;z-index: 0;}#sk-container-id-5 div.sk-serial {display: flex;flex-direction: column;align-items: center;background-color: white;padding-right: 0.2em;padding-left: 0.2em;position: relative;}#sk-container-id-5 div.sk-item {position: relative;z-index: 1;}#sk-container-id-5 div.sk-parallel {display: flex;align-items: stretch;justify-content: center;background-color: white;position: relative;}#sk-container-id-5 div.sk-item::before, #sk-container-id-5 div.sk-parallel-item::before {content: \"\";position: absolute;border-left: 1px solid gray;box-sizing: border-box;top: 0;bottom: 0;left: 50%;z-index: -1;}#sk-container-id-5 div.sk-parallel-item {display: flex;flex-direction: column;z-index: 1;position: relative;background-color: white;}#sk-container-id-5 div.sk-parallel-item:first-child::after {align-self: flex-end;width: 50%;}#sk-container-id-5 div.sk-parallel-item:last-child::after {align-self: flex-start;width: 50%;}#sk-container-id-5 div.sk-parallel-item:only-child::after {width: 0;}#sk-container-id-5 div.sk-dashed-wrapped {border: 1px dashed gray;margin: 0 0.4em 0.5em 0.4em;box-sizing: border-box;padding-bottom: 0.4em;background-color: white;}#sk-container-id-5 div.sk-label label {font-family: monospace;font-weight: bold;display: inline-block;line-height: 1.2em;}#sk-container-id-5 div.sk-label-container {text-align: center;}#sk-container-id-5 div.sk-container {/* jupyter's `normalize.less` sets `[hidden] { display: none; }` but bootstrap.min.css set `[hidden] { display: none !important; }` so we also need the `!important` here to be able to override the default hidden behavior on the sphinx rendered scikit-learn.org. See: https://github.com/scikit-learn/scikit-learn/issues/21755 */display: inline-block !important;position: relative;}#sk-container-id-5 div.sk-text-repr-fallback {display: none;}</style><div id=\"sk-container-id-5\" class=\"sk-top-container\"><div class=\"sk-text-repr-fallback\"><pre>GridSearchCV(cv=5, estimator=RandomForestClassifier(random_state=0),\n",
       "             param_grid={&#x27;max_depth&#x27;: [10, 12, 14, 16],\n",
       "                         &#x27;n_estimators&#x27;: [300, 600, 800]})</pre><b>In a Jupyter environment, please rerun this cell to show the HTML representation or trust the notebook. <br />On GitHub, the HTML representation is unable to render, please try loading this page with nbviewer.org.</b></div><div class=\"sk-container\" hidden><div class=\"sk-item sk-dashed-wrapped\"><div class=\"sk-label-container\"><div class=\"sk-label sk-toggleable\"><input class=\"sk-toggleable__control sk-hidden--visually\" id=\"sk-estimator-id-13\" type=\"checkbox\" ><label for=\"sk-estimator-id-13\" class=\"sk-toggleable__label sk-toggleable__label-arrow\">GridSearchCV</label><div class=\"sk-toggleable__content\"><pre>GridSearchCV(cv=5, estimator=RandomForestClassifier(random_state=0),\n",
       "             param_grid={&#x27;max_depth&#x27;: [10, 12, 14, 16],\n",
       "                         &#x27;n_estimators&#x27;: [300, 600, 800]})</pre></div></div></div><div class=\"sk-parallel\"><div class=\"sk-parallel-item\"><div class=\"sk-item\"><div class=\"sk-label-container\"><div class=\"sk-label sk-toggleable\"><input class=\"sk-toggleable__control sk-hidden--visually\" id=\"sk-estimator-id-14\" type=\"checkbox\" ><label for=\"sk-estimator-id-14\" class=\"sk-toggleable__label sk-toggleable__label-arrow\">estimator: RandomForestClassifier</label><div class=\"sk-toggleable__content\"><pre>RandomForestClassifier(random_state=0)</pre></div></div></div><div class=\"sk-serial\"><div class=\"sk-item\"><div class=\"sk-estimator sk-toggleable\"><input class=\"sk-toggleable__control sk-hidden--visually\" id=\"sk-estimator-id-15\" type=\"checkbox\" ><label for=\"sk-estimator-id-15\" class=\"sk-toggleable__label sk-toggleable__label-arrow\">RandomForestClassifier</label><div class=\"sk-toggleable__content\"><pre>RandomForestClassifier(random_state=0)</pre></div></div></div></div></div></div></div></div></div></div>"
      ],
      "text/plain": [
       "GridSearchCV(cv=5, estimator=RandomForestClassifier(random_state=0),\n",
       "             param_grid={'max_depth': [10, 12, 14, 16],\n",
       "                         'n_estimators': [300, 600, 800]})"
      ]
     },
     "execution_count": 59,
     "metadata": {},
     "output_type": "execute_result"
    }
   ],
   "source": [
    "rfc=RandomForestClassifier(random_state=0)\n",
    "\n",
    "param_grid = { \n",
    "    'n_estimators': [300, 600, 800],\n",
    "    'max_depth' : [10,12,14,16],\n",
    "}\n",
    "\n",
    "CV_rfc = GridSearchCV(estimator=rfc, param_grid=param_grid, cv= 5)\n",
    "CV_rfc.fit(X_train, y_train)"
   ]
  },
  {
   "cell_type": "code",
   "execution_count": 60,
   "metadata": {},
   "outputs": [
    {
     "data": {
      "text/plain": [
       "{'max_depth': 16, 'n_estimators': 800}"
      ]
     },
     "execution_count": 60,
     "metadata": {},
     "output_type": "execute_result"
    }
   ],
   "source": [
    "CV_rfc.best_params_"
   ]
  },
  {
   "cell_type": "code",
   "execution_count": 61,
   "metadata": {},
   "outputs": [
    {
     "data": {
      "text/plain": [
       "0.6737737910413432"
      ]
     },
     "execution_count": 61,
     "metadata": {},
     "output_type": "execute_result"
    }
   ],
   "source": [
    "CV_rfc.best_score_"
   ]
  },
  {
   "cell_type": "code",
   "execution_count": 62,
   "metadata": {},
   "outputs": [
    {
     "name": "stdout",
     "output_type": "stream",
     "text": [
      "              precision    recall  f1-score   support\n",
      "\n",
      "           1       0.72      0.60      0.65        57\n",
      "           2       0.65      0.87      0.74       112\n",
      "           3       0.42      0.16      0.23        32\n",
      "           4       0.76      0.59      0.67        32\n",
      "\n",
      "    accuracy                           0.67       233\n",
      "   macro avg       0.64      0.55      0.57       233\n",
      "weighted avg       0.65      0.67      0.64       233\n",
      "\n"
     ]
    }
   ],
   "source": [
    "rfc_pred = CV_rfc.best_estimator_.predict(X_test)\n",
    "print(classification_report(y_test, rfc_pred))"
   ]
  },
  {
   "cell_type": "markdown",
   "metadata": {},
   "source": [
    "Najlepszym klasyfikatorem został Random Forest Classifier"
   ]
  }
 ],
 "metadata": {
  "kernelspec": {
   "display_name": "Python 3",
   "language": "python",
   "name": "python3"
  },
  "language_info": {
   "codemirror_mode": {
    "name": "ipython",
    "version": 3
   },
   "file_extension": ".py",
   "mimetype": "text/x-python",
   "name": "python",
   "nbconvert_exporter": "python",
   "pygments_lexer": "ipython3",
   "version": "3.11.2"
  }
 },
 "nbformat": 4,
 "nbformat_minor": 2
}
